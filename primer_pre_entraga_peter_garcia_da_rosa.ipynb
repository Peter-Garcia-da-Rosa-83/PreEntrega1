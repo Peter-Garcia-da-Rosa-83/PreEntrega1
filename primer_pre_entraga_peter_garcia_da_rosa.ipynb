{
  "nbformat": 4,
  "nbformat_minor": 0,
  "metadata": {
    "colab": {
      "provenance": [],
      "authorship_tag": "ABX9TyMB0CtmpanMdOvr//IMjCXZ",
      "include_colab_link": true
    },
    "kernelspec": {
      "name": "python3",
      "display_name": "Python 3"
    },
    "language_info": {
      "name": "python"
    }
  },
  "cells": [
    {
      "cell_type": "markdown",
      "metadata": {
        "id": "view-in-github",
        "colab_type": "text"
      },
      "source": [
        "<a href=\"https://colab.research.google.com/github/Peter-Garcia-da-Rosa-83/PreEntrega1/blob/main/primer_pre_entraga_peter_garcia_da_rosa.ipynb\" target=\"_parent\"><img src=\"https://colab.research.google.com/assets/colab-badge.svg\" alt=\"Open In Colab\"/></a>"
      ]
    },
    {
      "cell_type": "markdown",
      "source": [],
      "metadata": {
        "id": "TE35I-6jGuXq"
      }
    },
    {
      "cell_type": "code",
      "source": [
        "print(\"Bienvenidos a CODER - Pyhton\")"
      ],
      "metadata": {
        "colab": {
          "base_uri": "https://localhost:8080/"
        },
        "id": "XjeodKztG_s6",
        "outputId": "8c3c1430-0b60-4b59-c9ce-b934e12f6f08"
      },
      "execution_count": 12,
      "outputs": [
        {
          "output_type": "stream",
          "name": "stdout",
          "text": [
            "Bienvenidos a CODER - Pyhton\n"
          ]
        }
      ]
    },
    {
      "cell_type": "code",
      "source": [
        "# Generamos un contador para llevar el control de usuarios\n",
        "contador = 0\n",
        "# Usamos un diccionario como base de datos\n",
        "usuarios = {}\n",
        "print('\\033c', end='')\n",
        "# se crea un menú de apertura\n",
        "print(\"Bienvenido al programa de registros.\\n\")\n",
        "print(\"Por favor, seleccione una opción del menú:\")\n",
        "print(\"1. Agregar/eliminar registro\")\n",
        "print(\"2. Ver registros\")\n",
        "print(\"3. Salir\")\n",
        "opcion = input(\"Ingrese el número de la opción deseada: \")\n",
        "# Este print permite limpiar la pantalla sin importar el O.S\n",
        "print('\\033c', end='')\n",
        "# El loop while permitirá que el usuario siga trabajando hasta que desee salir\n",
        "while True:\n",
        "    # Agrega o eliminar usuarios\n",
        "    if opcion == \"1\":\n",
        "        print(\"Agregar/eliminar registro\")\n",
        "        print(\"\")\n",
        "        print(\"1. Agregar Usuario\")\n",
        "        print(\"2. Eliminar Usuario\")\n",
        "        opcion = input(\"Ingrese el número de la opción deseada: \")\n",
        "        print('\\033c', end='')\n",
        "\n",
        "        # Agregar usuarios\n",
        "        if opcion == \"1\":\n",
        "            print(\"Agregar Usuario\\n\")\n",
        "            nombre = input(\"Ingrese el nombre del usuario: \")\n",
        "            apellido = input(\"Ingrese el apellido del usuario: \")\n",
        "            print('\\033c', end='')\n",
        "            print (\"Usuario:\\n\")\n",
        "            # Se concatenan las primera letra del nombre y la primera letra del apellido del usuario\n",
        "            letras = nombre[0]+apellido[0]\n",
        "            contador += 1\n",
        "            # Las letras pasan a ser Mayusculas y se concatena junto con el str 00 a damás del str contador\n",
        "            # Se genera el codigo de usuario\n",
        "            codigo = letras.upper() + \"00\" + str(contador)\n",
        "            print(f\"El codigo del usuario es '{codigo}'\")\n",
        "            usuarios[codigo] = nombre + \" \" + apellido\n",
        "            # Se confirma el registro del usuario\n",
        "            print(f\"{nombre} {apellido} HA SIDO REGISTRADO EXITOSAMENTE.\\n\")\n",
        "            # Imprimir un mensaje pidiendo al usuario que presione Enter para continuar\n",
        "            input('Presione Enter para continuar...')\n",
        "            print('\\033c', end='')\n",
        "\n",
        "        # Eliminar usuarios\n",
        "        elif opcion == \"2\":\n",
        "            print(\"Eliminar Usuario\\n\")\n",
        "            codigo = input(\"Ingrese el codigo del usuario: \")\n",
        "            # Validar que el usuario existe den la base de datos\n",
        "            # Si el usuario existe se procede a eliminarlo\n",
        "            if codigo in usuarios:\n",
        "                del usuarios[codigo]\n",
        "                print(f\"EL USUARIO FUE ELIMINADO CON EXITO.\")\n",
        "                input('Presione Enter para continuar...')\n",
        "                print('\\033c', end='')\n",
        "            else:\n",
        "                print(f\"EL USUARIO NO FUE ENCONTRADO.\")\n",
        "                input('Presione Enter para continuar...')\n",
        "                print('\\033c', end='')\n",
        "    # Ver los usuarios que están en la base de datos\n",
        "    elif opcion == \"2\":\n",
        "        print(\"Registros\\n\")\n",
        "        print(\"-\"*10)\n",
        "        # Loop para recorrer la base de datos y mostrar los usuarios registrados\n",
        "        for key, value in usuarios.items():\n",
        "            print(key, value)\n",
        "        print(\"-\"*10)\n",
        "        input('Presione Enter para continuar...')\n",
        "        print('\\033c', end='')\n",
        "    # Salir del programa\n",
        "    elif opcion == \"3\":\n",
        "        break\n",
        "    else:\n",
        "        print(\"Opción inválida. Por favor, seleccione una opción válida del menú.\")\n",
        "    # El menú de apertura se agrega para que pueda seguir funcionando dentro del loop\n",
        "    print(\"1. Agregar/eliminar registro\")\n",
        "    print(\"2. Ver registros\")\n",
        "    print(\"3. Salir\")\n",
        "\n",
        "    opcion = input(\"Ingrese el número de la opción deseada: \")\n",
        "    print('\\033c', end='')"
      ],
      "metadata": {
        "colab": {
          "base_uri": "https://localhost:8080/"
        },
        "id": "8wp1eQjLIzbA",
        "outputId": "72b77462-2b03-488d-98fa-38d9f43f99cb"
      },
      "execution_count": 13,
      "outputs": [
        {
          "output_type": "stream",
          "name": "stdout",
          "text": [
            "\u001bcBienvenido al programa de registros.\n",
            "\n",
            "Por favor, seleccione una opción del menú:\n",
            "1. Agregar/eliminar registro\n",
            "2. Ver registros\n",
            "3. Salir\n",
            "Ingrese el número de la opción deseada: 1\n",
            "\u001bcAgregar/eliminar registro\n",
            "\n",
            "1. Agregar Usuario\n",
            "2. Eliminar Usuario\n",
            "Ingrese el número de la opción deseada: 1\n",
            "\u001bcAgregar Usuario\n",
            "\n",
            "Ingrese el nombre del usuario: Peter\n",
            "Ingrese el apellido del usuario: Garcia\n",
            "\u001bcUsuario:\n",
            "\n",
            "El codigo del usuario es 'PG001'\n",
            "Peter Garcia HA SIDO REGISTRADO EXITOSAMENTE.\n",
            "\n",
            "Presione Enter para continuar...\n",
            "\u001bc1. Agregar/eliminar registro\n",
            "2. Ver registros\n",
            "3. Salir\n",
            "Ingrese el número de la opción deseada: 2\n",
            "\u001bcRegistros\n",
            "\n",
            "----------\n",
            "PG001 Peter Garcia\n",
            "----------\n",
            "Presione Enter para continuar...1\n",
            "\u001bc1. Agregar/eliminar registro\n",
            "2. Ver registros\n",
            "3. Salir\n",
            "Ingrese el número de la opción deseada: 1\n",
            "\u001bcAgregar/eliminar registro\n",
            "\n",
            "1. Agregar Usuario\n",
            "2. Eliminar Usuario\n",
            "Ingrese el número de la opción deseada: 2\n",
            "\u001bcEliminar Usuario\n",
            "\n",
            "Ingrese el codigo del usuario: pg001\n",
            "EL USUARIO NO FUE ENCONTRADO.\n",
            "Presione Enter para continuar...PG001\n",
            "\u001bc1. Agregar/eliminar registro\n",
            "2. Ver registros\n",
            "3. Salir\n",
            "Ingrese el número de la opción deseada: 1\n",
            "\u001bcAgregar/eliminar registro\n",
            "\n",
            "1. Agregar Usuario\n",
            "2. Eliminar Usuario\n",
            "Ingrese el número de la opción deseada: 2\n",
            "\u001bcEliminar Usuario\n",
            "\n",
            "Ingrese el codigo del usuario: 2\n",
            "EL USUARIO NO FUE ENCONTRADO.\n",
            "Presione Enter para continuar...\n",
            "\u001bc1. Agregar/eliminar registro\n",
            "2. Ver registros\n",
            "3. Salir\n",
            "Ingrese el número de la opción deseada: 3\n",
            "\u001bc"
          ]
        }
      ]
    }
  ]
}